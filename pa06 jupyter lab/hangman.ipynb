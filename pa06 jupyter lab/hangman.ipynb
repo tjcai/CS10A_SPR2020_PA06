{
 "cells": [
  {
   "cell_type": "markdown",
   "metadata": {},
   "source": [
    "# Hangman notes\n",
    "Your hangman homework has a number of different ways it can be completed. If you are having trouble completing it, you can use this notebook to guide you to a solution.\n",
    "\n",
    "## Describe the Algorithm\n",
    "Usually when we start writing a program we decide how we want the program to work. This is called the algorithm underlying the program.\n",
    "\n",
    "For hangman it might be something like this.\n",
    "\n",
    "1. Ask if they want to play a game, if not then return\n",
    "2. Generate a random word (w)\n",
    "   Also initialize the counter variable which keeps track of their remaining guesses\n",
    "   and initialize a variable to keep track of the letters they've guessed already.\n",
    "3. Ask the user for a letter and add it to the list of guessed letters\n",
    "4. If the letter has already been guessed or is not in the word, add one to the counter\n",
    "   and print a message saying they didn't guess a new letter\n",
    "5. Otherwise, congratulate them and print the letters in the word, but only showing the\n",
    "   letters they have guessed.\n",
    "6. If they have guessed all the letters or they have used up all of their guesses end the game\n",
    "7. Otherwise continue the game\n",
    "\n",
    "# Pseudocode\n",
    "The next step is to write the code as a combination of Python and English where the Python\n",
    "captures the \"top-level\" parts of the algorithm.\n",
    "\n",
    "Making this more Python-like we can rewrite it as:\n",
    "```python\n",
    "def play_hangman():\n",
    "    want_to_play = True\n",
    "\n",
    "\n",
    "    while (want_to_play):\n",
    "        guessed_letters = []\n",
    "        guesses_left = 6\n",
    "        word = \"generate a random word\"\n",
    "        letter = \"ask the user for a letter\"\n",
    "        done = False\n",
    "        while not done:\n",
    "            if letter in guessed_letters:\n",
    "                \"subtract one from guesses_left\"\n",
    "                \"and tell them they already guessed that letter\"\n",
    "            elif letter not in word:\n",
    "                \"add letter to guessed letters\"\n",
    "                \"tell user the letter is not in the word\"\n",
    "                \"subtract one from the guesses_left\"\n",
    "            else:\n",
    "                \"add letter to guessed letters\"\n",
    "                \"tell user the letter is in the word\"\n",
    "            if \"all the letters in the word have been guessed\":\n",
    "                \"set done to be true and tell the user they won!\"\n",
    "            elif \"the number of guesses left is zero\":\n",
    "                \"set done to be true and tell the user they lost!\"\n",
    "            else:\n",
    "                \"print the word with a dash for each letter not in guessed_letters\"\n",
    "                letter = \"ask the user for another letter\"\n",
    "        want_to_play = \"ask the user if they want to play another game...\"\n",
    "    \n",
    "```   \n",
    "Some of the pseudo code can be converted directly into python code\n",
    "Other pseudo code should be turned into functions, e.g.\n"
   ]
  },
  {
   "cell_type": "markdown",
   "metadata": {},
   "source": [
    "## Testing\n",
    "Try to trace this program to see if the logic is correct\n",
    "Play a few games and see if we have forgotten anything..."
   ]
  },
  {
   "cell_type": "markdown",
   "metadata": {},
   "source": [
    "## Topdown development\n",
    "Now that we have a highlevel view of the program and have tested it, lets start writing the lowerlevel code.\n",
    "\n",
    "\"generate a random word\" could be a function call \n",
    "```python\n",
    "  word = generate_random_word()\n",
    "```\n",
    "and then you'll need to define the generate_random_word function. The easiest approach is to\n",
    "import the random module and use the random.choice(list) function which returns a random element\n",
    "from the list. Write the code for the generate_random_word function where you just write a list of words, e.g. \n",
    "``` python\n",
    "words = \"dog cat mouse deer snake\".split()\n",
    "```\n",
    "Try writing the generate_random_word function and testing it...\n",
    "Even better is to download a list of English words, read them (as we did for Romeo and Juliet),\n",
    "and then use the random.choice function of the random module to pick a random word from that list."
   ]
  },
  {
   "cell_type": "code",
   "execution_count": 1,
   "metadata": {},
   "outputs": [
    {
     "data": {
      "text/plain": [
       "['y', 'o', 'u', 'n', 'g']"
      ]
     },
     "execution_count": 1,
     "metadata": {},
     "output_type": "execute_result"
    }
   ],
   "source": [
    "import random\n",
    "def generate_random_word():\n",
    "    file=open(\"English.txt\",\"r\")\n",
    "    line= [a for a in file]\n",
    "    words=random.choice(line)\n",
    "    words1=list(words)\n",
    "    words2=words1[0:-1]\n",
    "    return words2\n",
    "generate_random_word()"
   ]
  },
  {
   "cell_type": "markdown",
   "metadata": {},
   "source": [
    "\"print the word with a dash for each letter not in guessed_letters\"\n",
    "\n",
    "should also be a function, \n",
    "```python\n",
    "print_word(word,guessed_letter)\n",
    "```\n",
    "which prints each letter of the word but prints a dash if the letter has not been guessed.\n",
    "Try writing that function here and testing it."
   ]
  },
  {
   "cell_type": "code",
   "execution_count": 2,
   "metadata": {},
   "outputs": [],
   "source": [
    "def print_word(word,guessed_letters):\n",
    "    print_word = []\n",
    "    for c in word:\n",
    "        if c in guessed_letters:\n",
    "            c = c\n",
    "            print_word.append(c)\n",
    "        else:\n",
    "            c = \"-\"\n",
    "            print_word.append(c)\n",
    "    return print_word\n"
   ]
  },
  {
   "cell_type": "markdown",
   "metadata": {},
   "source": [
    "Putting it all together\n",
    "Now try to write the entire play_hangman game with all these pieces.\n"
   ]
  },
  {
   "cell_type": "code",
   "execution_count": null,
   "metadata": {},
   "outputs": [
    {
     "name": "stdout",
     "output_type": "stream",
     "text": [
      "-----------\n",
      "['-', '-', '-']\n",
      "6 chances left.\n"
     ]
    },
    {
     "name": "stdin",
     "output_type": "stream",
     "text": [
      "Guess a letter: a\n"
     ]
    },
    {
     "name": "stdout",
     "output_type": "stream",
     "text": [
      "This letter is not in the word.\n",
      "-----------\n",
      "['-', '-', '-']\n",
      "5 chances left.\n"
     ]
    },
    {
     "name": "stdin",
     "output_type": "stream",
     "text": [
      "Guess a letter: e\n"
     ]
    },
    {
     "name": "stdout",
     "output_type": "stream",
     "text": [
      "This letter is not in the word.\n",
      "-----------\n",
      "['-', '-', '-']\n",
      "4 chances left.\n"
     ]
    },
    {
     "name": "stdin",
     "output_type": "stream",
     "text": [
      "Guess a letter: r\n"
     ]
    },
    {
     "name": "stdout",
     "output_type": "stream",
     "text": [
      "This letter is not in the word.\n",
      "-----------\n",
      "['-', '-', '-']\n",
      "3 chances left.\n"
     ]
    },
    {
     "name": "stdin",
     "output_type": "stream",
     "text": [
      "Guess a letter: d\n"
     ]
    },
    {
     "name": "stdout",
     "output_type": "stream",
     "text": [
      "This letter is not in the word.\n",
      "-----------\n",
      "['-', '-', '-']\n",
      "2 chances left.\n"
     ]
    },
    {
     "name": "stdin",
     "output_type": "stream",
     "text": [
      "Guess a letter: b\n"
     ]
    },
    {
     "name": "stdout",
     "output_type": "stream",
     "text": [
      "This letter is not in the word.\n",
      "-----------\n",
      "['-', '-', '-']\n",
      "1 chances left.\n"
     ]
    },
    {
     "name": "stdin",
     "output_type": "stream",
     "text": [
      "Guess a letter: c\n"
     ]
    },
    {
     "name": "stdout",
     "output_type": "stream",
     "text": [
      "This letter is not in the word.\n",
      "['-', '-', '-']\n",
      "Sorry no guess left. You lost!\n",
      "The word is:  ['h', 'o', 't']\n"
     ]
    },
    {
     "name": "stdin",
     "output_type": "stream",
     "text": [
      "Play Again? (Yes or No) yes\n"
     ]
    },
    {
     "name": "stdout",
     "output_type": "stream",
     "text": [
      "-----------\n",
      "['-', '-', '-']\n",
      "6 chances left.\n"
     ]
    },
    {
     "name": "stdin",
     "output_type": "stream",
     "text": [
      "Guess a letter: t\n"
     ]
    },
    {
     "name": "stdout",
     "output_type": "stream",
     "text": [
      "This letter is not in the word.\n",
      "-----------\n",
      "['-', '-', '-']\n",
      "5 chances left.\n"
     ]
    },
    {
     "name": "stdin",
     "output_type": "stream",
     "text": [
      "Guess a letter: r\n"
     ]
    },
    {
     "name": "stdout",
     "output_type": "stream",
     "text": [
      "Cong! This letter is in the word!\n",
      "-----------\n",
      "['-', 'r', '-']\n",
      "4 chances left.\n"
     ]
    },
    {
     "name": "stdin",
     "output_type": "stream",
     "text": [
      "Guess a letter: y\n"
     ]
    },
    {
     "name": "stdout",
     "output_type": "stream",
     "text": [
      "Cong! This letter is in the word!\n",
      "-----------\n",
      "['-', 'r', 'y']\n",
      "3 chances left.\n"
     ]
    },
    {
     "name": "stdin",
     "output_type": "stream",
     "text": [
      "Guess a letter: d\n"
     ]
    },
    {
     "name": "stdout",
     "output_type": "stream",
     "text": [
      "This letter is not in the word.\n",
      "-----------\n",
      "['-', 'r', 'y']\n",
      "2 chances left.\n"
     ]
    },
    {
     "name": "stdin",
     "output_type": "stream",
     "text": [
      "Guess a letter: c\n"
     ]
    },
    {
     "name": "stdout",
     "output_type": "stream",
     "text": [
      "Cong! This letter is in the word!\n",
      "['c', 'r', 'y']\n",
      "Cong! You won!\n"
     ]
    }
   ],
   "source": [
    "import random\n",
    "def play_hangman():\n",
    "    want_to_play = True\n",
    "    while want_to_play == True:\n",
    "        guessed_letters = []\n",
    "        guesses_left = 6\n",
    "        word = generate_random_word()\n",
    "        done = False\n",
    "        \n",
    "        while not done:\n",
    "            print_word(word,guessed_letters)\n",
    "            print(\"-----------\")\n",
    "            print(print_word(word,guessed_letters))\n",
    "            print(guesses_left, \"chances left.\")\n",
    "            letter = input(\"Guess a letter:\")  \n",
    "\n",
    "            if letter in guessed_letters:\n",
    "                guesses_left -= 1\n",
    "                print(\"You have already guessed this letter.\")\n",
    "            elif letter not in word:\n",
    "                guesses_left -= 1\n",
    "                guessed_letters.append(letter)\n",
    "                print(\"This letter is not in the word.\")\n",
    "            elif letter in word:\n",
    "                guesses_left -= 1\n",
    "                guessed_letters.append(letter)\n",
    "                print(\"Cong! This letter is in the word!\")\n",
    "            if '-' not in print_word(word,guessed_letters):\n",
    "                print(print_word(word,guessed_letters))\n",
    "                print(\"Cong! You won!\")\n",
    "                done = True\n",
    "            elif guesses_left == 0:\n",
    "                print(print_word(word,guessed_letters))\n",
    "                print(\"Sorry no guess left. You lost!\")\n",
    "                print(\"The word is: \",word)\n",
    "                done = True\n",
    "        play_again = input(\"Play Again? (Yes or No)\")\n",
    "        if play_again.lower()==\"yes\":\n",
    "            continue\n",
    "        if play_again.lower()==\"no\":\n",
    "            want_to_play=False\n",
    "\n",
    "play_hangman()\n",
    "            "
   ]
  },
  {
   "cell_type": "code",
   "execution_count": null,
   "metadata": {},
   "outputs": [],
   "source": []
  }
 ],
 "metadata": {
  "kernelspec": {
   "display_name": "Python 3",
   "language": "python",
   "name": "python3"
  },
  "language_info": {
   "codemirror_mode": {
    "name": "ipython",
    "version": 3
   },
   "file_extension": ".py",
   "mimetype": "text/x-python",
   "name": "python",
   "nbconvert_exporter": "python",
   "pygments_lexer": "ipython3",
   "version": "3.7.4"
  }
 },
 "nbformat": 4,
 "nbformat_minor": 4
}
